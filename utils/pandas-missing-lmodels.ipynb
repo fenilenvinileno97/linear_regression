{
 "cells": [
  {
   "cell_type": "code",
   "execution_count": 17,
   "metadata": {},
   "outputs": [],
   "source": [
    "import pandas as pd\n",
    "import numpy as np\n",
    "from sklearn.preprocessing import StandardScaler\n",
    "from sklearn.linear_model import LinearRegression\n",
    "from sklearn.model_selection import train_test_split"
   ]
  },
  {
   "cell_type": "code",
   "execution_count": 18,
   "metadata": {},
   "outputs": [],
   "source": [
    "try:\n",
    "    del pd.DataFrame.missing\n",
    "except AttributeError:\n",
    "    pass"
   ]
  },
  {
   "cell_type": "code",
   "execution_count": 21,
   "metadata": {},
   "outputs": [
    {
     "name": "stderr",
     "output_type": "stream",
     "text": [
      "/tmp/ipykernel_33187/130289200.py:2: UserWarning: registration of accessor <class '__main__.LinearModels'> under name 'lmodels' for type <class 'pandas.core.frame.DataFrame'> is overriding a preexisting attribute with the same name.\n",
      "  class LinearModels:\n"
     ]
    }
   ],
   "source": [
    "@pd.api.extensions.register_dataframe_accessor(\"lmodels\")\n",
    "class LinearModels:\n",
    "    def __init__(self, pandas_obj) -> pd.DataFrame:\n",
    "        self._df = pandas_obj\n",
    "        \n",
    "    def multilinear(self, xcols, ycol) -> np.array:\n",
    "        \"\"\"\n",
    "            This function retrieves variables attributed to a train test split with sklearn.model_selection\n",
    "            Args: xcols = the names of x columns to use in our multilinear models as predictors of ycol (passed as a list if it is plural),\n",
    "                  ycol = the variable to predict from dataframe\n",
    "            Output: (y_test, y_pred) the adjusted values to our linear model, from these we can retrieve a residual plot.\n",
    "        \"\"\"\n",
    "        # Data pipeline\n",
    "        X = self._df[xcols].values\n",
    "        y = self._df[ycol].values\n",
    "        \n",
    "        # Normalize data\n",
    "        X_train, X_test, y_train, y_test = train_test_split(X, y)\n",
    "        sc_x = StandardScaler().fit(X)\n",
    "        sc_y = StandardScaler().fit(y)\n",
    "        \n",
    "        # Selecting data\n",
    "        X_train = sc_x.transform(X_train)\n",
    "        X_test  = sc_x.transform(X_test)\n",
    "        y_train = sc_y.transform(y_train)\n",
    "        y_test  = sc_y.transform(y_test)\n",
    "        \n",
    "        # Training the model\n",
    "        model = LinearRegression()\n",
    "        model.fit(X_train, y_train)\n",
    "        y_pred = model.predict(X_test)\n",
    "        \n",
    "        return y_test, y_pred\n",
    "    \n",
    "    def multilinear(self, xcol, ycol) -> np.array:\n",
    "        \"\"\"\n",
    "            This function retrieves variables attributed to a train test split with sklearn.model_selection\n",
    "            Args: xcols = the name of x column to use in our single linear models as predictors of ycol,\n",
    "                  ycol = the variable to predict from dataframe\n",
    "            Output: (y_test, y_pred) the adjusted values to our linear model, from these we can retrieve a residual plot.\n",
    "        \"\"\"\n",
    "        # Data pipeline\n",
    "        X = self._df[xcol].values.reshape(-1,1)\n",
    "        y = self._df[ycol].values.reshape(-1,1)\n",
    "        \n",
    "        # Normalize data\n",
    "        X_train, X_test, y_train, y_test = train_test_split(X, y)\n",
    "        sc_x = StandardScaler().fit(X)\n",
    "        sc_y = StandardScaler().fit(y)\n",
    "        \n",
    "        # Selecting data\n",
    "        X_train = sc_x.transform(X_train)\n",
    "        X_test  = sc_x.transform(X_test)\n",
    "        y_train = sc_y.transform(y_train)\n",
    "        y_test  = sc_y.transform(y_test)\n",
    "        \n",
    "        # Training the model\n",
    "        model = LinearRegression()\n",
    "        model.fit(X_train, y_train)\n",
    "        y_pred = model.predict(X_test)\n",
    "        \n",
    "        return y_test, y_pred"
   ]
  }
 ],
 "metadata": {
  "kernelspec": {
   "display_name": "missing_values",
   "language": "python",
   "name": "python3"
  },
  "language_info": {
   "codemirror_mode": {
    "name": "ipython",
    "version": 3
   },
   "file_extension": ".py",
   "mimetype": "text/x-python",
   "name": "python",
   "nbconvert_exporter": "python",
   "pygments_lexer": "ipython3",
   "version": "3.9.18"
  }
 },
 "nbformat": 4,
 "nbformat_minor": 2
}
